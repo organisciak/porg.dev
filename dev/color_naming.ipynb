{
 "cells": [
  {
   "cell_type": "markdown",
   "metadata": {},
   "source": [
    "## Color Naming Prep"
   ]
  },
  {
   "cell_type": "code",
   "execution_count": 3,
   "metadata": {},
   "outputs": [],
   "source": [
    "import pandas as pd\n",
    "from random import shuffle"
   ]
  },
  {
   "cell_type": "code",
   "execution_count": 2,
   "metadata": {},
   "outputs": [
    {
     "name": "stdout",
     "output_type": "stream",
     "text": [
      "OVERUSED Blueberry, Grape, Midnight, Lime, Bubblegum, Deep, Tropical, Raspberry, Lavender, Electric, Mermaid's, Turquoise, Cherry, Enchanted, Bashful, Lively, Plum, Flamingo's, Cosmic, Minty, Tickled, Golden, Whimsical, Curious, Gregarious, Lemon, Mysterious, Leprechaun's, Breezy, Mystical, Unicorn's, Slightly, Playful, Mint, Velvet, Limeade, Mossy, Cotton, Olive, Serenade, Frog's, Zesty, Muddy, Sky, Teal, Forest, Emerald, Barbie's, Whispering, Alien's, Delight, Awkwardly, Mauve, Majestic, Giggling, Berrylicious, Caramelized, Jungle, Royal, Rose, Violet, Sunset, Meadow, Quirky, Dream, Funky, Blush, Blushing, Daring, Sapphire, Caramel, Cinnamon, Dreamy, Lilac, Radiant, Refreshing, Berry, Sorbet, Tango, Twilight, Toasty, Tranquil, Lemonade, Splash, Dolphin's, Orchid, Chocolate, Sunny, Grasshopper's, Froggy, Energetic, Vibrant, Lucky, Alien, Amethyst, Frog, Bluebird's, Sea, Passionate, Sassy, Fiery, Ocean, Flamingo, Fern, Bumbling, Toasted, Awkward, Eggplant, Indigo, Fuchsia, Aqua, Owl's, Tangerine, Sunshine, Adventure, Dragon's, Envious, Copper, Mermaid, Chameleon's, Bliss, Cheeky, Denim, Charming, Azure, Grassy, Peacock's, Daydream, Froggy's, Giraffe's, Apricot, Rustic, Breeze, Penguin's, Jubilant, Coral, Mustard, Night, Kiss, Grape Jelly, Kangaroo's, Fresh, Springtime, Moose's, Mystic, Butterfly's, Unicorn, Mist, Burst, Strawberry, Oceanic, Neon, Pool Party, Pumpkin, Frolicsome, Turtle's, Cocoa, Parade, Radiance, Ruby, Serenity, Rosy, Moss, Jade, Lush, Lullaby, Raccoon's, Periwinkle, Vampire's, Haze, Disco, Cloudy, Gecko's, Eccentric, Bubbly, Dazzling, Grasshopper, Marshmallow, Raven's, Magenta, Kiwi, Dusty, Fizz, Symphony, Nectarine, Rambunctious, Seafoam, Sandy, Yawning, Waters, Tomato, Tease, Smurf's, Sunflower, Stormy, Orange, Melody, Brown, Quartz, Freshly, Cardinal's, Evergreen, Nautical, Polar, Cobalt, Fiesta, Bumblebee's, Keyboard, Frolic, Lagoon, Lizard's, Apple, Charm, Cheerful, Bunny's, Gentle, Banana, Caribbean, Parakeet's, Flirty, Cucumber, Parrot's, Kermit's, Dandelion, Jolly, Caterpillar's, Nectar, Koala's, Honey, Crocodile's, Seahorse, Peachy, Skyline, Skies, Rumble, Cranberry, Candy, Mirage, Sizzling, Beaver's, Boisterous, Fox's, Canary's, Magic, Crush, Oasis, Arctic\n",
      "3047\n"
     ]
    }
   ],
   "source": [
    "def load_colors():\n",
    "    colors = pd.read_csv('color_names.csv', names=['color', 'css']).drop_duplicates('color').drop_duplicates('css')\n",
    "    colors.css = colors.css.str.upper()\n",
    "\n",
    "    colors['base'] = colors.css.apply(lambda x: x[:2] + x[3] + x[5])\n",
    "    colors[['first', 'second']] = colors.color.str.split(' ', 1, expand=True)\n",
    "\n",
    "    # save the overused words\n",
    "    whitelist = \"blue green red purple pink yellow grey gray navy white my i the this why that almost\".split()\n",
    "    counts = pd.concat([colors['first'], colors['second']]).value_counts()\n",
    "    overused = counts[counts > 4].index.tolist()\n",
    "    overused = [x for x in overused if x.lower() not in whitelist]\n",
    "    overused_str = ', '.join(overused)\n",
    "\n",
    "    # drop words that occur more than 3 times in a column\n",
    "    colors = colors.drop_duplicates(subset='color')\n",
    "    for col in ['first', 'second']:\n",
    "        too_much = (colors.groupby(col).cumcount() >= 10) & (~colors[col].str.lower().isin(whitelist))\n",
    "        colors = colors[~too_much]\n",
    "\n",
    "    # Save to json\n",
    "    return overused_str, colors\n",
    "\n",
    "overused_str, colors = load_colors()\n",
    "# save to JSON from site\n",
    "colors.set_index('color')['css'].to_json('../src/routes/colors/colors.json',indent=2)\n",
    "print(\"OVERUSED\", overused_str)\n",
    "print(colors.shape[0])"
   ]
  },
  {
   "cell_type": "markdown",
   "metadata": {},
   "source": [
    "## Check for offensive terms"
   ]
  },
  {
   "cell_type": "code",
   "execution_count": 21,
   "metadata": {},
   "outputs": [
    {
     "name": "stdout",
     "output_type": "stream",
     "text": [
      "5618\n"
     ]
    }
   ],
   "source": [
    "all = pd.read_csv('color_names.csv', names=['color', 'css']).color.tolist()\n",
    "print(len(all))\n",
    "prompt = f'Here is a list of color names. Flag any that are potentially offensive: {\",\".join(all)}'"
   ]
  },
  {
   "cell_type": "code",
   "execution_count": null,
   "metadata": {},
   "outputs": [],
   "source": [
    "import openai\n",
    "from IPython.display import Markdown\n",
    "from tqdm.auto import tqdm\n",
    "# iterate through 500-word item chunks of all\n",
    "chunksize = 500\n",
    "all_content = ''\n",
    "for i in tqdm(range(0, len(all), chunksize)):\n",
    "    prompt = f'Here is a list of color names. Flag any that are potentially offensive. It is okay if they have adult topics, but not exclusionary topics (e.g. on the basis of race, gender, etc.). \\n # Format\\n Use the format:\\n - colorname: reason for flag\\n # Colors \\n```{\",\".join(all[i:i+chunksize])}```'\n",
    "    response = openai.ChatCompletion.create(\n",
    "        messages = [{'role':'user', 'content': prompt}],\n",
    "        model='gpt-3.5-turbo'\n",
    "    )\n",
    "    all_content += response.choices[0].message.content\n",
    "    display(Markdown(response.choices[0].message.content))\n"
   ]
  },
  {
   "cell_type": "code",
   "execution_count": 23,
   "metadata": {},
   "outputs": [
    {
     "data": {
      "application/vnd.jupyter.widget-view+json": {
       "model_id": "5087113880d249e6b35bef92bfa4dbc3",
       "version_major": 2,
       "version_minor": 0
      },
      "text/plain": [
       "  0%|          | 0/12 [00:00<?, ?it/s]"
      ]
     },
     "metadata": {},
     "output_type": "display_data"
    },
    {
     "data": {
      "text/markdown": [
       "There are no color names in the provided list that are potentially offensive."
      ],
      "text/plain": [
       "<IPython.core.display.Markdown object>"
      ]
     },
     "metadata": {},
     "output_type": "display_data"
    },
    {
     "data": {
      "text/markdown": [
       "There are no potentially offensive color names in the given list."
      ],
      "text/plain": [
       "<IPython.core.display.Markdown object>"
      ]
     },
     "metadata": {},
     "output_type": "display_data"
    },
    {
     "data": {
      "text/markdown": [
       "None of the color names listed appear to be potentially offensive."
      ],
      "text/plain": [
       "<IPython.core.display.Markdown object>"
      ]
     },
     "metadata": {},
     "output_type": "display_data"
    },
    {
     "data": {
      "text/markdown": [
       "Here are the potentially offensive color names:\n",
       "- Electric Indigo (reference to indigenous cultures)\n",
       "- Envious Emerald (negative connotation)\n",
       "- Angry Lobster (personifying a crustacean)\n",
       "- Disco Diva Lipstick (appropriation of disco culture)\n",
       "- Barbie's Bubblegum (trademark infringement)\n",
       "- Mars Rover Red (appropriation of space exploration)\n",
       "- Flamingo's Sunburn (negative connotation)\n",
       "- Grinch Green (reference to a character)\n",
       "- Alien Abduction (sensitive topic)\n",
       "- Frog Prince's Pants (inappropriate reference)\n",
       "\n",
       "Please note that these are potentially offensive and may vary depending on cultural context, personal beliefs, and individual sensitivities. It is always important to consider the impact of language and imagery on different communities."
      ],
      "text/plain": [
       "<IPython.core.display.Markdown object>"
      ]
     },
     "metadata": {},
     "output_type": "display_data"
    },
    {
     "data": {
      "text/markdown": [
       "Flagged potentially offensive color names:\n",
       "- Twilight Temptation\n",
       "- Mud Wrestling Champion\n",
       "- Crimson Crime Scene\n",
       "- Wine Stain Woe\n",
       "- Pumpkin Spiced Latte Disaster\n",
       "- Bloody Mary Mix\n",
       "- Coffee Stain on Grandma's Rug\n",
       "- Lime Jello Surprise\n",
       "- Cranberry Sauce Catastrophe\n",
       "- Blueberry Pancake Morning\n",
       "- Watermelon Candy Crush\n",
       "- Seafoam Seahorse\n",
       "- Midnight Monster\n",
       "- Lavender Macaron Meltdown\n",
       "- Galaxy Grape Jam\n",
       "- Raspberry Mousse Mirage\n",
       "- Blueberry Sorbet in Space\n",
       "- Lavender Marshmallow Dream\n",
       "- Raspberry Sherbet Daydream\n",
       "- Ocean Wave Wonder\n",
       "- Grape Jelly Jam\n",
       "- Limeade Lemonade\n",
       "- Grape Jelly Jamboree\n",
       "- Blackcurrant Beret\n",
       "- Limeade Delight\n",
       "- Zesty Lime, Vibrant Lime\n",
       "- Jolly Jester\n",
       "- Electric Eel\n",
       "- Lava Lollipop\n",
       "- Lime Fizz\n",
       "- Mysterious Orchid\n",
       "- Limeade Delight\n",
       "- Lively Leprechaun Leap\n",
       "- Persuasive Peach\n",
       "- Plump Persimmon\n",
       "- Delightful Daffodil\n",
       "- Bewitching Blackberry\n",
       "- Sizzling Strawberry\n",
       "- Glittering Grape\n",
       "- Playful Peach\n",
       "- Captivating Cherry\n",
       "- Electric Lemonade\n",
       "- Zesty Zucchini\n",
       "- Peculiar Papaya\n",
       "- Yummy Yam\n",
       "- Delightful Dandelion\n",
       "- Radiant Raspberry\n",
       "- Vivid Vanilla\n",
       "- Lemonade Love\n",
       "- Berry Blue\n",
       "- Raspberry Ripple\n",
       "- Lemon Meringue\n",
       "- Glistening Grape\n",
       "- Passionate Peach\n",
       "- Tropical Tangerine\n",
       "- Sparkling Strawberry\n",
       "- Radiant Raspberry\n",
       "- Limeade Lemonade\n",
       "- Raspberry Rendezvous"
      ],
      "text/plain": [
       "<IPython.core.display.Markdown object>"
      ]
     },
     "metadata": {},
     "output_type": "display_data"
    },
    {
     "data": {
      "text/markdown": [
       "Here are some potentially offensive color names: \n",
       "- Alien's Apple Martini\n",
       "- Alien's Neon Dream\n",
       "- Barbie's Bad Hair Day\n",
       "- Barbie's Broken Heel\n",
       "- Barbie's Bubblegum Blowout\n",
       "- Barbie's Dream Castle\n",
       "- Barbie's Glowing Slime\n",
       "- Barbie's Powder Puff\n",
       "- Barbie's Dream House\n",
       "- Bumblebee's Sunglasses\n",
       "- Cobalt Stormy Sky\n",
       "- Cosmic Unicorn\n",
       "- Deep Dive Blue\n",
       "- Electric Grape Jelly\n",
       "- Fairy Floss Flop \n",
       "- Flaming Fuchsia Fiasco\n",
       "- Froggy Fitness Fanatic\n",
       "- Gothic Grape Gumdrop \n",
       "- Honeybee's Hiccup\n",
       "- Limeade Fizz\n",
       "- Melted Chocolate Truffle\n",
       "- Midnight Mist\n",
       "- Overcooked Lobster Luncheon\n",
       "- Purple Poodle's Pajamas \n",
       "- Rainbow Unicorn Surprise\n",
       "- Rose Petal Rebellion\n",
       "- Sly Forest Sprite\n",
       "- Skydiving Smurf Spectacle\n",
       "- Smurf's Skydiving Surprise\n",
       "- Strawberry Smoothie Spill\n",
       "- Sweet Cinnamon Roll\n",
       "- Tropical Teal Tornado\n",
       "- Velvet Bluejay\n",
       " \n",
       "Please note that offensiveness can be subjective and may vary depending on cultural or personal perspectives."
      ],
      "text/plain": [
       "<IPython.core.display.Markdown object>"
      ]
     },
     "metadata": {},
     "output_type": "display_data"
    },
    {
     "data": {
      "text/markdown": [
       "It is difficult to determine if any of the color names listed are potentially offensive without knowing the context in which they will be used. However, it is always a good idea to avoid using color names that may be derogatory, discriminatory, or offensive to certain individuals or groups."
      ],
      "text/plain": [
       "<IPython.core.display.Markdown object>"
      ]
     },
     "metadata": {},
     "output_type": "display_data"
    },
    {
     "data": {
      "text/markdown": [
       "Caramelized Carrot, Mysterious Midnight, Flirty Fuchsia, Cheeky Coral, Zesty Zucchini, Toasted Toffee, Gregarious Grape Jelly, Funky Fern, Tickled Turtle, Leprechaun's Latte, Cosmic Cobalt, Lively Leprechaun, Mystic Moonbeam, Toasty Toffee, Mermaid's Melody, Enchanted Eggplant, Frolicsome Fuchsia, Luscious Lavender, Midnight Mist, Zen Zucchini, Radiant Rainforest, Mellow Mermaid, Envious Elegance, Sunny Sorbet, Caramelized Copper, Grape Jelly Galaxy, Tranquil Tidal Wave, Tickled Treetop, Blushing Bison, Flirty Fandango, Aquatic Adventure, Enchanted Eggplant, Dragon's Delight, Midnight Mirage, Gregarious Grasshopper, Zesty Zucchini, Leprechaun's Lavender, Flirty Fern, Penguin's Pool Party, Jolly Jester's Jumpsuit, Smurf's Snorkeling Suit, Cotton Candy Connoisseur's Convention, Lavender Llama's Luxurious Lashes, Dolphin's Day-Off Denim, Kangaroo's Khaki Knapsack, Blackberry's Bashful Blush, Cerulean Cat's Cravat, Daffodil's Daylight Disco, Peacock's Pristine Pedicure, Artichoke's Aftershave Ad, Flamingo's Flamenco Fiasco, Hummingbird's Hibiscus Hat, Chameleon's Charming Chapeau, Sage Sparrow's Suede Socks, Frog's Formal Footwear, Mermaid's Mistletoe Muffler, Cardinal's Christmas Cardigan, Parakeet's Pesto Pasta, Basil Bumblebee's Bowtie, Robin's Rusty Raincoat, Fern's Furtive Footprints, Cactus' Christmas Card, Honeybee's Hipster Hoodie, Grasshopper's Granny Glasses, Butterfly's Birthday Bash, Peacock's Posh Pants, Hummingbird's Hand-knit Hat, Raspberry's Rambunctious Romper, Raven's Romantic Rendezvous, Lime's Limbo Lesson, Crab's Cocktail Cravat, Sea Cucumber's Scuba Suit, Jellyfish's Jazz Jamboree, Olive's Opera Outfit, Koala's Kombucha Keg, Blackbird's Ballroom Bustle, Plum's Poetry Party, Raven's Rhapsody Recital, Flamingo's Fancy Fedora, Cucumber's Comedy Club, Butterfly's Boudoir Blouse, Raspberry's Rockabilly Ruffle, Owl's Oktoberfest Outfit, Dolphin's Disco Dress, Lime's Line Dancing Leggings, Kangaroo's Karaoke Kimono, Cardinal's Cocktail Clutch, Owl's Orig"
      ],
      "text/plain": [
       "<IPython.core.display.Markdown object>"
      ]
     },
     "metadata": {},
     "output_type": "display_data"
    },
    {
     "data": {
      "text/markdown": [
       "There are no color names in the list that are potentially offensive."
      ],
      "text/plain": [
       "<IPython.core.display.Markdown object>"
      ]
     },
     "metadata": {},
     "output_type": "display_data"
    },
    {
     "data": {
      "text/markdown": [
       "There are no immediately offensive color names in the provided list."
      ],
      "text/plain": [
       "<IPython.core.display.Markdown object>"
      ]
     },
     "metadata": {},
     "output_type": "display_data"
    },
    {
     "data": {
      "text/markdown": [
       "There are no color names in the list that are potentially offensive."
      ],
      "text/plain": [
       "<IPython.core.display.Markdown object>"
      ]
     },
     "metadata": {},
     "output_type": "display_data"
    },
    {
     "data": {
      "text/markdown": [
       "There are no color names in the provided list that can be flagged as potentially offensive."
      ],
      "text/plain": [
       "<IPython.core.display.Markdown object>"
      ]
     },
     "metadata": {},
     "output_type": "display_data"
    }
   ],
   "source": [
    "import openai\n",
    "from IPython.display import Markdown\n",
    "from tqdm.auto import tqdm\n",
    "# iterate through 500-word item chunks of all\n",
    "chunksize = 500\n",
    "all_content = ''\n",
    "for i in tqdm(range(0, len(all), chunksize)):\n",
    "    prompt = f'Here is a list of color names. Flag any that are potentially offensive: {\",\".join(all[i:i+chunksize])}'\n",
    "    response = openai.ChatCompletion.create(\n",
    "        messages = [{'role':'user', 'content': prompt}],\n",
    "        model='gpt-3.5-turbo'\n",
    "    )\n",
    "    all_content += response.choices[0].message.content\n",
    "    display(Markdown(response.choices[0].message.content))\n"
   ]
  },
  {
   "cell_type": "markdown",
   "metadata": {},
   "source": []
  },
  {
   "cell_type": "code",
   "execution_count": null,
   "metadata": {},
   "outputs": [],
   "source": [
    "# check for "
   ]
  },
  {
   "cell_type": "markdown",
   "metadata": {},
   "source": [
    "## Identify colors that still need naming"
   ]
  },
  {
   "cell_type": "code",
   "execution_count": 225,
   "metadata": {},
   "outputs": [
    {
     "data": {
      "text/plain": [
       "(1527,\n",
       " ['#BB88FF',\n",
       "  '#AAFF55',\n",
       "  '#227733',\n",
       "  '#EEFF11',\n",
       "  '#44AA22',\n",
       "  '#AA3333',\n",
       "  '#113344',\n",
       "  '#5566DD',\n",
       "  '#001199',\n",
       "  '#00BBCC'])"
      ]
     },
     "execution_count": 225,
     "metadata": {},
     "output_type": "execute_result"
    }
   ],
   "source": [
    "def get_remaining_colors(colors):\n",
    "    # Run all permutations of 0-15\n",
    "    base_16 = [hex(int(i))[2:].upper() for i in range(16)]\n",
    "    from itertools import product\n",
    "    perms = [\"#\" + \"\".join(perm) for perm in product(base_16, repeat=3)]\n",
    "    perms_todo = [perm for perm in perms if perm not in colors.base.values]\n",
    "    css_expand = lambda x: '#' + x[1]*2 + x[2]*2 + x[3]*2\n",
    "    perms_expanded = [css_expand(perm) for perm in perms_todo]\n",
    "    shuffle(perms_expanded)\n",
    "    return perms_expanded\n",
    "perms = get_remaining_colors(colors)\n",
    "len(perms), perms[:10]"
   ]
  },
  {
   "cell_type": "code",
   "execution_count": 216,
   "metadata": {},
   "outputs": [
    {
     "name": "stdout",
     "output_type": "stream",
     "text": [
      "Give me a set of fun or funnily-overspecific color names for the following colors:\n",
      "\n",
      "- #229922\n",
      "- #9988DD\n",
      "- #66FF88\n",
      "- #66DDFF\n",
      "- #DD0077\n",
      "- #0000EE\n",
      "- #6677EE\n",
      "- #444411\n",
      "- #FFCC22\n",
      "- #BB3366\n",
      "- #AAFF33\n",
      "- #55EEDD\n",
      "- #885566\n",
      "- #008877\n",
      "- #EE44FF\n",
      "- #33EE55\n",
      "- #55DD88\n",
      "- #4400CC\n",
      "- #771155\n",
      "- #99AA33\n",
      "- #992222\n",
      "- #55AAFF\n",
      "- #44EE55\n",
      "- #0011AA\n",
      "- #881133\n",
      "- #BB55FF\n",
      "- #EE0088\n",
      "- #99AA55\n",
      "- #66DD00\n",
      "- #DD3322\n",
      "- #887722\n",
      "- #FF4411\n",
      "- #007799\n",
      "- #33FF00\n",
      "- #DD88EE\n",
      "- #44CC99\n",
      "- #DD2266\n",
      "- #CC3355\n",
      "- #33DD11\n",
      "- #44DD00\n",
      "- #665522\n",
      "- #114477\n",
      "- #4455BB\n",
      "- #2211EE\n",
      "- #1144BB\n",
      "- #DD5555\n",
      "- #66EE66\n",
      "- #33FF99\n",
      "- #6633BB\n",
      "- #339988\n",
      "\n",
      "## Examples\n",
      "\n",
      "Here are examples of other color names:\n",
      "\n",
      "```\n",
      "Quail's Quiet Quilt,#11FF55\n",
      "Truffle Treasure,#773F1A\n",
      "Twilight Sky,#6666DD\n",
      "Plumtastic Punch, #DD55DD\n",
      "Prairie Pink,#D8B2D1\n",
      "Butterscotch Biscuit Breakdown,#AA7733\n",
      "Unsure About This Green,#7BB57C\n",
      "Vibrant Blueberry Delight,#99AAEE\n",
      "Breezy Butterfly's Blissful Bluejay, #44AAEE\n",
      "Bunny's Bashful Blush,#CC8899\n",
      "Violet Victory,#CC22DD\n",
      "Slightly Sassy Seafoam, #66DD99\n",
      "Seagull's Surfboard,#88DDFF\n",
      "Lava Lollipop,#DD2200\n",
      "Bumblebee's Sunglasses,#EEEE22\n",
      "Gentle Gorilla's Grin,#889999\n",
      "Nighttime Abyss,#000022\n",
      "Pouting Penguin's Pine Puddle,#119966\n",
      "Emerald Excitement,#33BB77\n",
      "Uptight Unicorn,#E2A2D8\n",
      "\n",
      "```\n",
      "\n",
      "## Additional Instructions\n",
      "\n",
      "- Don't use the following words: Lime, Blueberry, Grape, Midnight, Bubblegum, Lavender, Deep, Electric, Tropical, Raspberry, Enchanted, Turquoise, Plum, Mermaid's, Cherry, Minty, Bashful, Golden, Lemon, Whimsical, Lively, Cosmic, Breezy, Mint, Cotton, Mystical, Olive, Curious, Mysterious, Zesty, Gregarious, Velvet, Leprechaun's, Limeade, Unicorn's, Flamingo's, Tickled, Emerald, Forest, Frog's, Barbie's, Delight, Serenade, Jungle, Sky, Muddy, Rose, Berrylicious, Alien's, Sapphire, Playful, Cinnamon, Whispering, Mossy, Dream, Caramel, Royal, Tango, Slightly, Caramelized, Mauve, Blush, Meadow, Blushing, Violet, Berry, Sunset, Twilight, Giggling, Lemonade, Lilac, Sunny, Dreamy, Orchid, Toasty, Chocolate, Splash, Alien, Daring, Amethyst, Funky, Majestic, Dolphin's, Bumbling, Eggplant, Energetic, Indigo, Radiant, Flamingo, Lucky, Grasshopper's, Ocean, Sassy, Sorbet, Teal, Tangerine, Refreshing, Vibrant, Aqua, Dragon's, Grassy, Bliss, Adventure, Sea, Fuchsia, Passionate, Awkward, Charming, Frog, Awkwardly, Fern, Sunshine, Fiery, Copper, Daydream, Kiss, Denim, Mustard, Breeze, Owl's, Night, Froggy, Apricot, Coral, Mist, Burst, Tranquil, Strawberry, Azure, Springtime, Pumpkin, Unicorn, Peacock's, Neon, Moss, Radiance, Froggy's, Mystic, Cocoa, Jade, Periwinkle, Lullaby, Serenity, Pool Party, Grape Jelly, Lush, Ruby, Cloudy, Mermaid, Rosy, Haze, Fresh, Gecko's, Quirky, Jubilant, Quartz, Fizz, Stormy, Nectarine, Sunflower, Rustic, Dusty, Chameleon's, Grasshopper, Bluebird's, Moose's, Parade, Symphony, Cheeky, Tomato, Melody, Toasted, Smurf's, Oceanic, Tease, Sandy, Disco, Vampire's, Skyline, Giraffe's, Turtle's, Orange, Rambunctious, Oasis, Crush, Freshly, Polar, Waters, Skies, Fiesta, Butterfly's, Raccoon's, Penguin's, Mirage, Rumble, Magic, Magenta, Boisterous, Charm, Cucumber, Eccentric, Frolic, Nautical, Cobalt, Cheerful, Nectar, Honey, Envious, Dandelion, Seafoam, Gentle, Caribbean, Apple, Kiwi, Bubbly, Lagoon, Arctic, Keyboard, Cranberry, Evergreen, Peachy.\n",
      "- Make the names humorously over-specific. For example, \"Pumpkin\" is a bad name, but \"Pumpkin Spice Latte\" is a good name.\n",
      "\n",
      "## Format\n",
      "\n",
      "Write the colors in the CSS format, surrounded by triple-backticks, like this:\n",
      "\n",
      "```\n",
      "colorname,csscolor\n",
      "colorname,csscolor\n",
      "```\n",
      "\n",
      "Don't number them.\n",
      "\n"
     ]
    }
   ],
   "source": [
    "def write_message(colors, perms_expanded, overused_str):\n",
    "    examples=colors.sample(20)[['color', 'css']].to_csv(index=False, header=False)\n",
    "    to_tag = \"- \" + \"\\n- \".join(perms_expanded[:50])\n",
    "    msg = f'''Give me a set of fun or funnily-overspecific color names for the following colors:\n",
    "\n",
    "{to_tag}\n",
    "\n",
    "## Examples\n",
    "\n",
    "Here are examples of other color names:\n",
    "\n",
    "```\n",
    "{examples}\n",
    "```\n",
    "\n",
    "## Additional Instructions\n",
    "\n",
    "- Don't use the following words: {overused_str}.\n",
    "- Make the names humorously over-specific. For example, \"Pumpkin\" is a bad name, but \"Pumpkin Spice Latte\" is a good name.\n",
    "\n",
    "## Format\n",
    "\n",
    "Write the colors in the CSS format, surrounded by triple-backticks, like this:\n",
    "\n",
    "```\n",
    "colorname,csscolor\n",
    "colorname,csscolor\n",
    "```\n",
    "\n",
    "Don't number them.\n",
    "'''\n",
    "    return msg\n",
    "msg = write_message(colors, perms, overused_str)\n",
    "print(msg)\n"
   ]
  },
  {
   "cell_type": "code",
   "execution_count": 217,
   "metadata": {},
   "outputs": [
    {
     "name": "stdout",
     "output_type": "stream",
     "text": [
      "- #779977: Mossy Forest Floor\n",
      "- #55CC00: Zesty Limeade\n",
      "- #660000: Vampire's Velvet\n",
      "- #DD3377: Flamingo's Blush\n",
      "- #8888BB: Blueberry Delight\n",
      "- #9900CC: Mystical Unicorn's Mane\n",
      "- #993366: Awkwardly Blushing Plum\n",
      "- #CC11CC: Raspberry Sorbet\n",
      "- #441133: Mysterious Midnight Plum\n",
      "- #DDFF77: Tickled Lemon Meringue\n",
      "- #55CC11: Froggy's Fresh Grass\n",
      "- #444466: Alien's Denim Blues\n",
      "- #BB3366: Blushing Rose Petals\n",
      "- #44FFCC: Refreshing Mint Mojito\n",
      "- #DD0044: Passionate Dragonfruit\n",
      "- #AAFFAA: Leprechaun's Shamrock Meadow\n",
      "- #663399: Majestic Amethyst Dreams\n",
      "- #CC99BB: Whimsical Cotton Candy\n",
      "- #991111: Toasty Campfire Embers\n",
      "- #CC3322: Caramelized Pumpkin Spice\n",
      "- #CCDD11: Tickled Pickle Green\n",
      "- #CCAAAA: Bashful Blushing Beach\n",
      "- #331122: Mysterious Grape Jelly\n",
      "- #11FF99: Breezy Seafoam Bubbles\n",
      "- #0033CC: Playful Blueberry Blast\n",
      "- #008800: Funky Forest Foliage\n",
      "- #8822BB: Disco Diva's Purple Haze\n",
      "- #8855AA: Quirky Grape Soda Pop\n",
      "- #99EEEE: Serenade of Soft Clouds\n",
      "- #CC7799: Flirty Flamingo Feather\n",
      "- #EE4477: Raspberry Lemonade Fizz\n",
      "- #440066: Midnight Moonlit Shadows\n",
      "- #DDFF11: Sunshine Bee's Honey\n",
      "- #DD5544: Tango of Tangerine\n",
      "- #335533: Grassy Green Giggles\n",
      "- #004400: Enchanted Evergreen Forest\n",
      "- #CC55CC: Orchid's Enchanting Whispers\n",
      "- #992299: Mystical Unicorn's Mane\n",
      "- #33AABB: Caribbean Waters' Bliss\n",
      "- #66BBDD: Melody of Ocean Waves\n",
      "- #991100: Raccoon's Rustic Red\n",
      "- #6655EE: Smurf's Electric Blue\n",
      "- #0022EE: Penguin's Pool Party\n",
      "- #662244: Majestic Mulberry Majesty\n",
      "- #227733: Froggy's Fresh Green Leaves\n",
      "- #996611: Toasted Cinnamon Spice\n",
      "- #444488: Moody Stormy Skies\n",
      "- #CC1166: Flamingo's Passionate Plumage\n",
      "- #9977EE: Mystical Midnight Magic\n",
      "- #9999EE: Serenade of Soothing Lavender\n"
     ]
    },
    {
     "ename": "TypeError",
     "evalue": "'float' object is not subscriptable",
     "output_type": "error",
     "traceback": [
      "\u001b[0;31m---------------------------------------------------------------------------\u001b[0m",
      "\u001b[0;31mTypeError\u001b[0m                                 Traceback (most recent call last)",
      "\u001b[1;32m/Users/peter.organisciak/Documents/projects/organisciak.github.io/dev/color_naming.ipynb Cell 7\u001b[0m line \u001b[0;36m<cell line: 5>\u001b[0;34m()\u001b[0m\n\u001b[1;32m      <a href='vscode-notebook-cell:/Users/peter.organisciak/Documents/projects/organisciak.github.io/dev/color_naming.ipynb#X31sZmlsZQ%3D%3D?line=2'>3</a>\u001b[0m \u001b[39mfrom\u001b[39;00m \u001b[39mIPython\u001b[39;00m\u001b[39m.\u001b[39;00m\u001b[39mdisplay\u001b[39;00m \u001b[39mimport\u001b[39;00m clear_output\n\u001b[1;32m      <a href='vscode-notebook-cell:/Users/peter.organisciak/Documents/projects/organisciak.github.io/dev/color_naming.ipynb#X31sZmlsZQ%3D%3D?line=4'>5</a>\u001b[0m \u001b[39mfor\u001b[39;00m i \u001b[39min\u001b[39;00m tqdm(\u001b[39mrange\u001b[39m(\u001b[39m20\u001b[39m)):\n\u001b[0;32m----> <a href='vscode-notebook-cell:/Users/peter.organisciak/Documents/projects/organisciak.github.io/dev/color_naming.ipynb#X31sZmlsZQ%3D%3D?line=5'>6</a>\u001b[0m     overused_str, colors \u001b[39m=\u001b[39m load_colors()\n\u001b[1;32m      <a href='vscode-notebook-cell:/Users/peter.organisciak/Documents/projects/organisciak.github.io/dev/color_naming.ipynb#X31sZmlsZQ%3D%3D?line=6'>7</a>\u001b[0m     \u001b[39mprint\u001b[39m(overused_str)\n\u001b[1;32m      <a href='vscode-notebook-cell:/Users/peter.organisciak/Documents/projects/organisciak.github.io/dev/color_naming.ipynb#X31sZmlsZQ%3D%3D?line=7'>8</a>\u001b[0m     perms \u001b[39m=\u001b[39m get_remaining_colors(colors)\n",
      "\u001b[1;32m/Users/peter.organisciak/Documents/projects/organisciak.github.io/dev/color_naming.ipynb Cell 7\u001b[0m line \u001b[0;36mload_colors\u001b[0;34m()\u001b[0m\n\u001b[1;32m      <a href='vscode-notebook-cell:/Users/peter.organisciak/Documents/projects/organisciak.github.io/dev/color_naming.ipynb#X31sZmlsZQ%3D%3D?line=1'>2</a>\u001b[0m colors \u001b[39m=\u001b[39m pd\u001b[39m.\u001b[39mread_csv(\u001b[39m'\u001b[39m\u001b[39mcolor_names.csv\u001b[39m\u001b[39m'\u001b[39m, names\u001b[39m=\u001b[39m[\u001b[39m'\u001b[39m\u001b[39mcolor\u001b[39m\u001b[39m'\u001b[39m, \u001b[39m'\u001b[39m\u001b[39mcss\u001b[39m\u001b[39m'\u001b[39m])\u001b[39m.\u001b[39mdrop_duplicates(\u001b[39m'\u001b[39m\u001b[39mcolor\u001b[39m\u001b[39m'\u001b[39m)\u001b[39m.\u001b[39mdrop_duplicates(\u001b[39m'\u001b[39m\u001b[39mcss\u001b[39m\u001b[39m'\u001b[39m)\n\u001b[1;32m      <a href='vscode-notebook-cell:/Users/peter.organisciak/Documents/projects/organisciak.github.io/dev/color_naming.ipynb#X31sZmlsZQ%3D%3D?line=2'>3</a>\u001b[0m colors\u001b[39m.\u001b[39mcss \u001b[39m=\u001b[39m colors\u001b[39m.\u001b[39mcss\u001b[39m.\u001b[39mstr\u001b[39m.\u001b[39mupper()\n\u001b[0;32m----> <a href='vscode-notebook-cell:/Users/peter.organisciak/Documents/projects/organisciak.github.io/dev/color_naming.ipynb#X31sZmlsZQ%3D%3D?line=4'>5</a>\u001b[0m colors[\u001b[39m'\u001b[39m\u001b[39mbase\u001b[39m\u001b[39m'\u001b[39m] \u001b[39m=\u001b[39m colors\u001b[39m.\u001b[39;49mcss\u001b[39m.\u001b[39;49mapply(\u001b[39mlambda\u001b[39;49;00m x: x[:\u001b[39m2\u001b[39;49m] \u001b[39m+\u001b[39;49m x[\u001b[39m3\u001b[39;49m] \u001b[39m+\u001b[39;49m x[\u001b[39m5\u001b[39;49m])\n\u001b[1;32m      <a href='vscode-notebook-cell:/Users/peter.organisciak/Documents/projects/organisciak.github.io/dev/color_naming.ipynb#X31sZmlsZQ%3D%3D?line=5'>6</a>\u001b[0m colors[[\u001b[39m'\u001b[39m\u001b[39mfirst\u001b[39m\u001b[39m'\u001b[39m, \u001b[39m'\u001b[39m\u001b[39msecond\u001b[39m\u001b[39m'\u001b[39m]] \u001b[39m=\u001b[39m colors\u001b[39m.\u001b[39mcolor\u001b[39m.\u001b[39mstr\u001b[39m.\u001b[39msplit(\u001b[39m'\u001b[39m\u001b[39m \u001b[39m\u001b[39m'\u001b[39m, \u001b[39m1\u001b[39m, expand\u001b[39m=\u001b[39m\u001b[39mTrue\u001b[39;00m)\n\u001b[1;32m      <a href='vscode-notebook-cell:/Users/peter.organisciak/Documents/projects/organisciak.github.io/dev/color_naming.ipynb#X31sZmlsZQ%3D%3D?line=7'>8</a>\u001b[0m \u001b[39m# save the overused words\u001b[39;00m\n",
      "File \u001b[0;32m~/anaconda3/lib/python3.9/site-packages/pandas/core/series.py:4433\u001b[0m, in \u001b[0;36mSeries.apply\u001b[0;34m(self, func, convert_dtype, args, **kwargs)\u001b[0m\n\u001b[1;32m   4323\u001b[0m \u001b[39mdef\u001b[39;00m \u001b[39mapply\u001b[39m(\n\u001b[1;32m   4324\u001b[0m     \u001b[39mself\u001b[39m,\n\u001b[1;32m   4325\u001b[0m     func: AggFuncType,\n\u001b[0;32m   (...)\u001b[0m\n\u001b[1;32m   4328\u001b[0m     \u001b[39m*\u001b[39m\u001b[39m*\u001b[39mkwargs,\n\u001b[1;32m   4329\u001b[0m ) \u001b[39m-\u001b[39m\u001b[39m>\u001b[39m DataFrame \u001b[39m|\u001b[39m Series:\n\u001b[1;32m   4330\u001b[0m     \u001b[39m\"\"\"\u001b[39;00m\n\u001b[1;32m   4331\u001b[0m \u001b[39m    Invoke function on values of Series.\u001b[39;00m\n\u001b[1;32m   4332\u001b[0m \n\u001b[0;32m   (...)\u001b[0m\n\u001b[1;32m   4431\u001b[0m \u001b[39m    dtype: float64\u001b[39;00m\n\u001b[1;32m   4432\u001b[0m \u001b[39m    \"\"\"\u001b[39;00m\n\u001b[0;32m-> 4433\u001b[0m     \u001b[39mreturn\u001b[39;00m SeriesApply(\u001b[39mself\u001b[39;49m, func, convert_dtype, args, kwargs)\u001b[39m.\u001b[39;49mapply()\n",
      "File \u001b[0;32m~/anaconda3/lib/python3.9/site-packages/pandas/core/apply.py:1082\u001b[0m, in \u001b[0;36mSeriesApply.apply\u001b[0;34m(self)\u001b[0m\n\u001b[1;32m   1078\u001b[0m \u001b[39mif\u001b[39;00m \u001b[39misinstance\u001b[39m(\u001b[39mself\u001b[39m\u001b[39m.\u001b[39mf, \u001b[39mstr\u001b[39m):\n\u001b[1;32m   1079\u001b[0m     \u001b[39m# if we are a string, try to dispatch\u001b[39;00m\n\u001b[1;32m   1080\u001b[0m     \u001b[39mreturn\u001b[39;00m \u001b[39mself\u001b[39m\u001b[39m.\u001b[39mapply_str()\n\u001b[0;32m-> 1082\u001b[0m \u001b[39mreturn\u001b[39;00m \u001b[39mself\u001b[39;49m\u001b[39m.\u001b[39;49mapply_standard()\n",
      "File \u001b[0;32m~/anaconda3/lib/python3.9/site-packages/pandas/core/apply.py:1137\u001b[0m, in \u001b[0;36mSeriesApply.apply_standard\u001b[0;34m(self)\u001b[0m\n\u001b[1;32m   1131\u001b[0m         values \u001b[39m=\u001b[39m obj\u001b[39m.\u001b[39mastype(\u001b[39mobject\u001b[39m)\u001b[39m.\u001b[39m_values\n\u001b[1;32m   1132\u001b[0m         \u001b[39m# error: Argument 2 to \"map_infer\" has incompatible type\u001b[39;00m\n\u001b[1;32m   1133\u001b[0m         \u001b[39m# \"Union[Callable[..., Any], str, List[Union[Callable[..., Any], str]],\u001b[39;00m\n\u001b[1;32m   1134\u001b[0m         \u001b[39m# Dict[Hashable, Union[Union[Callable[..., Any], str],\u001b[39;00m\n\u001b[1;32m   1135\u001b[0m         \u001b[39m# List[Union[Callable[..., Any], str]]]]]\"; expected\u001b[39;00m\n\u001b[1;32m   1136\u001b[0m         \u001b[39m# \"Callable[[Any], Any]\"\u001b[39;00m\n\u001b[0;32m-> 1137\u001b[0m         mapped \u001b[39m=\u001b[39m lib\u001b[39m.\u001b[39;49mmap_infer(\n\u001b[1;32m   1138\u001b[0m             values,\n\u001b[1;32m   1139\u001b[0m             f,  \u001b[39m# type: ignore[arg-type]\u001b[39;49;00m\n\u001b[1;32m   1140\u001b[0m             convert\u001b[39m=\u001b[39;49m\u001b[39mself\u001b[39;49m\u001b[39m.\u001b[39;49mconvert_dtype,\n\u001b[1;32m   1141\u001b[0m         )\n\u001b[1;32m   1143\u001b[0m \u001b[39mif\u001b[39;00m \u001b[39mlen\u001b[39m(mapped) \u001b[39mand\u001b[39;00m \u001b[39misinstance\u001b[39m(mapped[\u001b[39m0\u001b[39m], ABCSeries):\n\u001b[1;32m   1144\u001b[0m     \u001b[39m# GH#43986 Need to do list(mapped) in order to get treated as nested\u001b[39;00m\n\u001b[1;32m   1145\u001b[0m     \u001b[39m#  See also GH#25959 regarding EA support\u001b[39;00m\n\u001b[1;32m   1146\u001b[0m     \u001b[39mreturn\u001b[39;00m obj\u001b[39m.\u001b[39m_constructor_expanddim(\u001b[39mlist\u001b[39m(mapped), index\u001b[39m=\u001b[39mobj\u001b[39m.\u001b[39mindex)\n",
      "File \u001b[0;32m~/anaconda3/lib/python3.9/site-packages/pandas/_libs/lib.pyx:2870\u001b[0m, in \u001b[0;36mpandas._libs.lib.map_infer\u001b[0;34m()\u001b[0m\n",
      "\u001b[1;32m/Users/peter.organisciak/Documents/projects/organisciak.github.io/dev/color_naming.ipynb Cell 7\u001b[0m line \u001b[0;36mload_colors.<locals>.<lambda>\u001b[0;34m(x)\u001b[0m\n\u001b[1;32m      <a href='vscode-notebook-cell:/Users/peter.organisciak/Documents/projects/organisciak.github.io/dev/color_naming.ipynb#X31sZmlsZQ%3D%3D?line=1'>2</a>\u001b[0m colors \u001b[39m=\u001b[39m pd\u001b[39m.\u001b[39mread_csv(\u001b[39m'\u001b[39m\u001b[39mcolor_names.csv\u001b[39m\u001b[39m'\u001b[39m, names\u001b[39m=\u001b[39m[\u001b[39m'\u001b[39m\u001b[39mcolor\u001b[39m\u001b[39m'\u001b[39m, \u001b[39m'\u001b[39m\u001b[39mcss\u001b[39m\u001b[39m'\u001b[39m])\u001b[39m.\u001b[39mdrop_duplicates(\u001b[39m'\u001b[39m\u001b[39mcolor\u001b[39m\u001b[39m'\u001b[39m)\u001b[39m.\u001b[39mdrop_duplicates(\u001b[39m'\u001b[39m\u001b[39mcss\u001b[39m\u001b[39m'\u001b[39m)\n\u001b[1;32m      <a href='vscode-notebook-cell:/Users/peter.organisciak/Documents/projects/organisciak.github.io/dev/color_naming.ipynb#X31sZmlsZQ%3D%3D?line=2'>3</a>\u001b[0m colors\u001b[39m.\u001b[39mcss \u001b[39m=\u001b[39m colors\u001b[39m.\u001b[39mcss\u001b[39m.\u001b[39mstr\u001b[39m.\u001b[39mupper()\n\u001b[0;32m----> <a href='vscode-notebook-cell:/Users/peter.organisciak/Documents/projects/organisciak.github.io/dev/color_naming.ipynb#X31sZmlsZQ%3D%3D?line=4'>5</a>\u001b[0m colors[\u001b[39m'\u001b[39m\u001b[39mbase\u001b[39m\u001b[39m'\u001b[39m] \u001b[39m=\u001b[39m colors\u001b[39m.\u001b[39mcss\u001b[39m.\u001b[39mapply(\u001b[39mlambda\u001b[39;00m x: x[:\u001b[39m2\u001b[39;49m] \u001b[39m+\u001b[39m x[\u001b[39m3\u001b[39m] \u001b[39m+\u001b[39m x[\u001b[39m5\u001b[39m])\n\u001b[1;32m      <a href='vscode-notebook-cell:/Users/peter.organisciak/Documents/projects/organisciak.github.io/dev/color_naming.ipynb#X31sZmlsZQ%3D%3D?line=5'>6</a>\u001b[0m colors[[\u001b[39m'\u001b[39m\u001b[39mfirst\u001b[39m\u001b[39m'\u001b[39m, \u001b[39m'\u001b[39m\u001b[39msecond\u001b[39m\u001b[39m'\u001b[39m]] \u001b[39m=\u001b[39m colors\u001b[39m.\u001b[39mcolor\u001b[39m.\u001b[39mstr\u001b[39m.\u001b[39msplit(\u001b[39m'\u001b[39m\u001b[39m \u001b[39m\u001b[39m'\u001b[39m, \u001b[39m1\u001b[39m, expand\u001b[39m=\u001b[39m\u001b[39mTrue\u001b[39;00m)\n\u001b[1;32m      <a href='vscode-notebook-cell:/Users/peter.organisciak/Documents/projects/organisciak.github.io/dev/color_naming.ipynb#X31sZmlsZQ%3D%3D?line=7'>8</a>\u001b[0m \u001b[39m# save the overused words\u001b[39;00m\n",
      "\u001b[0;31mTypeError\u001b[0m: 'float' object is not subscriptable"
     ]
    }
   ],
   "source": [
    "import openai\n",
    "from tqdm.auto import tqdm\n",
    "from IPython.display import clear_output\n",
    "\n",
    "for i in tqdm(range(20)):\n",
    "    overused_str, colors = load_colors()\n",
    "    print(overused_str)\n",
    "    perms = get_remaining_colors(colors)\n",
    "    print(\"Remaining colors:\", len(perms))\n",
    "    msg = write_message(colors, perms, overused_str)\n",
    "    response = openai.ChatCompletion.create(\n",
    "        model='gpt-3.5-turbo' if i % 2 == 0 else 'gpt-4',\n",
    "        messages = [\n",
    "            {\"role\":\"system\", \"content\": \"You are a helpful designer's assistant with a fun view of the world\"},\n",
    "            {\"role\":\"user\", \"content\": msg},\n",
    "        ],\n",
    "        temperature=0.6\n",
    "    )\n",
    "\n",
    "    content = response.choices[0].message.content\n",
    "    for sep in ['```', '\\n\\n']:\n",
    "        if sep in content:\n",
    "            content=content.split(sep)[1].strip()\n",
    "    clear_output()\n",
    "    print(content)\n",
    "    with open('color_names.csv', 'a') as f:\n",
    "        f.write(\"\\n\" + content)"
   ]
  },
  {
   "cell_type": "code",
   "execution_count": 40,
   "metadata": {},
   "outputs": [],
   "source": [
    "#luminence = lambda rgb: 0.2126*rgb[0] + 0.7152*rgb[1] + 0.0722*rgb[2]\n",
    "css_to_rgb = lambda css: tuple(int(css[i:i+2], 16) for i in (1, 3, 5))\n",
    "rgb_to_css = lambda rgb: '#' + ''.join(hex(int(i))[2:] for i in rgb)\n",
    "\n",
    "def linearize_rgb_value(value):\n",
    "    \"\"\"Linearize sRGB value.\"\"\"\n",
    "    value = value / 255.0\n",
    "    if value <= 0.04045:\n",
    "        return value / 12.92\n",
    "    else:\n",
    "        return ((value + 0.055) / 1.055) ** 2.4\n",
    "\n",
    "def relative_luminance(rgb):\n",
    "    \"\"\"Calculate relative luminance for RGB.\"\"\"\n",
    "    r, g, b = rgb\n",
    "    r = linearize_rgb_value(r)\n",
    "    g = linearize_rgb_value(g)\n",
    "    b = linearize_rgb_value(b)\n",
    "    return 0.2126 * r + 0.7152 * g + 0.0722 * b\n",
    "\n",
    "def text_color_for_background(css, threshold=.25):\n",
    "    \"\"\"Determine if text should be black or white based on background color.\"\"\"\n",
    "    rgb = css_to_rgb(css)\n",
    "    L = relative_luminance(rgb)\n",
    "    return \"black\" if L > threshold else \"white\""
   ]
  },
  {
   "cell_type": "code",
   "execution_count": 41,
   "metadata": {},
   "outputs": [
    {
     "data": {
      "text/html": [
       "<div style=\"display: flex; flex-wrap: wrap;\"><div style=\"background-color: #ADFF2F; padding:5px 30px 5px 5px; font-weight:700; color:black; width: 70px; height: 100px; margin: 10px;\">Too Many Smoothies Green</div><div style=\"background-color: #FFC0CB; padding:5px 30px 5px 5px; font-weight:700; color:black; width: 70px; height: 100px; margin: 10px;\">Why Are Flamingos This Pink?</div><div style=\"background-color: #8B0000; padding:5px 30px 5px 5px; font-weight:700; color:white; width: 70px; height: 100px; margin: 10px;\">Don't Ask Me What Color This Is Red</div><div style=\"background-color: #C0C0C0; padding:5px 30px 5px 5px; font-weight:700; color:black; width: 70px; height: 100px; margin: 10px;\">My Cat's Favorite Napping Spot Gray</div><div style=\"background-color: #F0F8FF; padding:5px 30px 5px 5px; font-weight:700; color:black; width: 70px; height: 100px; margin: 10px;\">If Clouds Had A Color White</div><div style=\"background-color: #9400D3; padding:5px 30px 5px 5px; font-weight:700; color:white; width: 70px; height: 100px; margin: 10px;\">Spilled My Wine Purple</div><div style=\"background-color: #7CFC00; padding:5px 30px 5px 5px; font-weight:700; color:black; width: 70px; height: 100px; margin: 10px;\">The Inside Of A Kiwi Green</div><div style=\"background-color: #FAF9F4; padding:5px 30px 5px 5px; font-weight:700; color:black; width: 70px; height: 100px; margin: 10px;\">Toilet Paper White</div><div style=\"background-color: #7BB57C; padding:5px 30px 5px 5px; font-weight:700; color:black; width: 70px; height: 100px; margin: 10px;\">Unsure About This Green</div><div style=\"background-color: #9B7042; padding:5px 30px 5px 5px; font-weight:700; color:white; width: 70px; height: 100px; margin: 10px;\">Nana's Old Couch</div><div style=\"background-color: #FF8C73; padding:5px 30px 5px 5px; font-weight:700; color:black; width: 70px; height: 100px; margin: 10px;\">Just A Little Sunburn</div><div style=\"background-color: #4A768D; padding:5px 30px 5px 5px; font-weight:700; color:white; width: 70px; height: 100px; margin: 10px;\">3 AM Snack Blue</div><div style=\"background-color: #603D63; padding:5px 30px 5px 5px; font-weight:700; color:white; width: 70px; height: 100px; margin: 10px;\">Teenager's Bedroom Wall</div><div style=\"background-color: #641C2A; padding:5px 30px 5px 5px; font-weight:700; color:white; width: 70px; height: 100px; margin: 10px;\">Spilt Merlot</div><div style=\"background-color: #B0A7A1; padding:5px 30px 5px 5px; font-weight:700; color:black; width: 70px; height: 100px; margin: 10px;\">Grandpa's Whiskers Gray</div><div style=\"background-color: #936B48; padding:5px 30px 5px 5px; font-weight:700; color:white; width: 70px; height: 100px; margin: 10px;\">Caffeine Jitters Brown</div><div style=\"background-color: #238C8A; padding:5px 30px 5px 5px; font-weight:700; color:white; width: 70px; height: 100px; margin: 10px;\">Weekend DIY Teal</div><div style=\"background-color: #A8C973; padding:5px 30px 5px 5px; font-weight:700; color:black; width: 70px; height: 100px; margin: 10px;\">Picky Eater Pea Green</div><div style=\"background-color: #7D7261; padding:5px 30px 5px 5px; font-weight:700; color:white; width: 70px; height: 100px; margin: 10px;\">Diet Soda Brown</div><div style=\"background-color: #A47A8E; padding:5px 30px 5px 5px; font-weight:700; color:white; width: 70px; height: 100px; margin: 10px;\">Missed The Bus Mauve</div><div style=\"background-color: #6E9460; padding:5px 30px 5px 5px; font-weight:700; color:black; width: 70px; height: 100px; margin: 10px;\">Overwatered Cactus</div><div style=\"background-color: #3FBDCD; padding:5px 30px 5px 5px; font-weight:700; color:black; width: 70px; height: 100px; margin: 10px;\">Emotional Turquoise</div><div style=\"background-color: #FFD5BA; padding:5px 30px 5px 5px; font-weight:700; color:black; width: 70px; height: 100px; margin: 10px;\">Forgot The Sunscreen</div><div style=\"background-color: #B59E7A; padding:5px 30px 5px 5px; font-weight:700; color:black; width: 70px; height: 100px; margin: 10px;\">That One Mystery Stain</div><div style=\"background-color: #CABBA0; padding:5px 30px 5px 5px; font-weight:700; color:black; width: 70px; height: 100px; margin: 10px;\">Overpriced Latte</div><div style=\"background-color: #D6D8DC; padding:5px 30px 5px 5px; font-weight:700; color:black; width: 70px; height: 100px; margin: 10px;\">Monday Morning Mist</div><div style=\"background-color: #344B5D; padding:5px 30px 5px 5px; font-weight:700; color:white; width: 70px; height: 100px; margin: 10px;\">Nosey Neighbor Navy</div><div style=\"background-color: #6A2C70; padding:5px 30px 5px 5px; font-weight:700; color:white; width: 70px; height: 100px; margin: 10px;\">Unpleasant Surprise Purple</div><div style=\"background-color: #8A6E52; padding:5px 30px 5px 5px; font-weight:700; color:white; width: 70px; height: 100px; margin: 10px;\">Last Cookie Crumb</div><div style=\"background-color: #6E7380; padding:5px 30px 5px 5px; font-weight:700; color:white; width: 70px; height: 100px; margin: 10px;\">Doubtful Dusk</div><div style=\"background-color: #FF9485; padding:5px 30px 5px 5px; font-weight:700; color:black; width: 70px; height: 100px; margin: 10px;\">Mildly Embarrassed Melon</div><div style=\"background-color: #9A8CBE; padding:5px 30px 5px 5px; font-weight:700; color:black; width: 70px; height: 100px; margin: 10px;\">Late Night Snack Lavender</div><div style=\"background-color: #FFC1D2; padding:5px 30px 5px 5px; font-weight:700; color:black; width: 70px; height: 100px; margin: 10px;\">Procrastination Pink</div><div style=\"background-color: #BEC0C2; padding:5px 30px 5px 5px; font-weight:700; color:black; width: 70px; height: 100px; margin: 10px;\">Second Guessing Silver</div><div style=\"background-color: #2E3D4C; padding:5px 30px 5px 5px; font-weight:700; color:white; width: 70px; height: 100px; margin: 10px;\">Unfinished Novel Navy</div><div style=\"background-color: #C2A488; padding:5px 30px 5px 5px; font-weight:700; color:black; width: 70px; height: 100px; margin: 10px;\">Tangled Headphones Tan</div><div style=\"background-color: #D2BFA3; padding:5px 30px 5px 5px; font-weight:700; color:black; width: 70px; height: 100px; margin: 10px;\">Yoga Retreat Yarrow</div><div style=\"background-color: #BD804A; padding:5px 30px 5px 5px; font-weight:700; color:black; width: 70px; height: 100px; margin: 10px;\">Binge-Watched Bronze</div><div style=\"background-color: #FF9955; padding:5px 30px 5px 5px; font-weight:700; color:black; width: 70px; height: 100px; margin: 10px;\">Overly Optimistic Orange</div><div style=\"background-color: #A854A1; padding:5px 30px 5px 5px; font-weight:700; color:white; width: 70px; height: 100px; margin: 10px;\">Panic Purchase Purple</div><div style=\"background-color: #A8FFD6; padding:5px 30px 5px 5px; font-weight:700; color:black; width: 70px; height: 100px; margin: 10px;\">It's Not You - It's Mint</div><div style=\"background-color: #874D75; padding:5px 30px 5px 5px; font-weight:700; color:white; width: 70px; height: 100px; margin: 10px;\">Perpetually Late Plum</div><div style=\"background-color: #4B3A60; padding:5px 30px 5px 5px; font-weight:700; color:white; width: 70px; height: 100px; margin: 10px;\">Breakup Blueberry</div><div style=\"background-color: #FF6B6B; padding:5px 30px 5px 5px; font-weight:700; color:black; width: 70px; height: 100px; margin: 10px;\">Complicated Relationship Coral</div><div style=\"background-color: #78B0FF; padding:5px 30px 5px 5px; font-weight:700; color:black; width: 70px; height: 100px; margin: 10px;\">Somewhat Satisfied Sky</div><div style=\"background-color: #C5A3C6; padding:5px 30px 5px 5px; font-weight:700; color:black; width: 70px; height: 100px; margin: 10px;\">Lost Sock Lavender</div><div style=\"background-color: #6B4E41; padding:5px 30px 5px 5px; font-weight:700; color:white; width: 70px; height: 100px; margin: 10px;\">Slightly Unsettled Sable</div><div style=\"background-color: #FF8A66; padding:5px 30px 5px 5px; font-weight:700; color:black; width: 70px; height: 100px; margin: 10px;\">Nervous Nectarine</div><div style=\"background-color: #FFB6C5; padding:5px 30px 5px 5px; font-weight:700; color:black; width: 70px; height: 100px; margin: 10px;\">Profoundly Passive Pink</div><div style=\"background-color: #FFFDF3; padding:5px 30px 5px 5px; font-weight:700; color:black; width: 70px; height: 100px; margin: 10px;\">Emotionally Exhausted Eggshell</div><div style=\"background-color: #2BC0E4; padding:5px 30px 5px 5px; font-weight:700; color:black; width: 70px; height: 100px; margin: 10px;\">Cautiously Content Cyan</div><div style=\"background-color: #EB57A3; padding:5px 30px 5px 5px; font-weight:700; color:black; width: 70px; height: 100px; margin: 10px;\">Fretful Fuchsia</div><div style=\"background-color: #FF704D; padding:5px 30px 5px 5px; font-weight:700; color:black; width: 70px; height: 100px; margin: 10px;\">Gently Judging Ginger</div><div style=\"background-color: #D0537A; padding:5px 30px 5px 5px; font-weight:700; color:white; width: 70px; height: 100px; margin: 10px;\">Resigned Raspberry</div><div style=\"background-color: #EAD3BA; padding:5px 30px 5px 5px; font-weight:700; color:black; width: 70px; height: 100px; margin: 10px;\">Bittersweet Goodbye Beige</div><div style=\"background-color: #8B5D7D; padding:5px 30px 5px 5px; font-weight:700; color:white; width: 70px; height: 100px; margin: 10px;\">Vaguely Vexed Violet</div><div style=\"background-color: #FFEB89; padding:5px 30px 5px 5px; font-weight:700; color:black; width: 70px; height: 100px; margin: 10px;\">Subdued Sunshine</div><div style=\"background-color: #483D8B; padding:5px 30px 5px 5px; font-weight:700; color:white; width: 70px; height: 100px; margin: 10px;\">Intentionally Ironic Indigo</div><div style=\"background-color: #E27181; padding:5px 30px 5px 5px; font-weight:700; color:black; width: 70px; height: 100px; margin: 10px;\">Regretful Rose</div><div style=\"background-color: #B0AFAF; padding:5px 30px 5px 5px; font-weight:700; color:black; width: 70px; height: 100px; margin: 10px;\">Polite But Distant Pewter</div><div style=\"background-color: #4A90E2; padding:5px 30px 5px 5px; font-weight:700; color:black; width: 70px; height: 100px; margin: 10px;\">Blandly Boisterous Blue</div><div style=\"background-color: #FF6B85; padding:5px 30px 5px 5px; font-weight:700; color:black; width: 70px; height: 100px; margin: 10px;\">Wishy-Washy Watermelon</div><div style=\"background-color: #FFC56E; padding:5px 30px 5px 5px; font-weight:700; color:black; width: 70px; height: 100px; margin: 10px;\">Haphazardly Hopeful Honey</div><div style=\"background-color: #6C3483; padding:5px 30px 5px 5px; font-weight:700; color:white; width: 70px; height: 100px; margin: 10px;\">Guilt Trip Grape</div><div style=\"background-color: #2A52BE; padding:5px 30px 5px 5px; font-weight:700; color:white; width: 70px; height: 100px; margin: 10px;\">Semi-Serious Sapphire</div><div style=\"background-color: #8B6B61; padding:5px 30px 5px 5px; font-weight:700; color:white; width: 70px; height: 100px; margin: 10px;\">Cautious Coffee Connoisseur</div><div style=\"background-color: #D19FA5; padding:5px 30px 5px 5px; font-weight:700; color:black; width: 70px; height: 100px; margin: 10px;\">Mundane Monday Mauve</div><div style=\"background-color: #FFA1A1; padding:5px 30px 5px 5px; font-weight:700; color:black; width: 70px; height: 100px; margin: 10px;\">Sorta Sweet Sorbet</div><div style=\"background-color: #FF6347; padding:5px 30px 5px 5px; font-weight:700; color:black; width: 70px; height: 100px; margin: 10px;\">Hesitant Hibiscus</div></div>"
      ],
      "text/plain": [
       "<IPython.core.display.HTML object>"
      ]
     },
     "execution_count": 41,
     "metadata": {},
     "output_type": "execute_result"
    }
   ],
   "source": [
    "html = '<div style=\"display: flex; flex-wrap: wrap;\">'\n",
    "for i, row in colors.tail(69).iterrows():\n",
    "    html += f'<div style=\"background-color: {row.css}; padding:5px 30px 5px 5px; font-weight:700; color:{text_color_for_background(row.css)}; width: 70px; height: 100px; margin: 10px;\">{row.color}</div>'\n",
    "html += '</div>'\n",
    "HTML(html)\n"
   ]
  },
  {
   "cell_type": "code",
   "execution_count": 6,
   "metadata": {},
   "outputs": [
    {
     "ename": "ValueError",
     "evalue": "too many values to unpack (expected 2)",
     "output_type": "error",
     "traceback": [
      "\u001b[0;31m---------------------------------------------------------------------------\u001b[0m",
      "\u001b[0;31mValueError\u001b[0m                                Traceback (most recent call last)",
      "\u001b[1;32m/Users/peter.organisciak/Documents/projects/organisciak.github.io/dev/color_naming.ipynb Cell 5\u001b[0m line \u001b[0;36m<cell line: 2>\u001b[0;34m()\u001b[0m\n\u001b[1;32m      <a href='vscode-notebook-cell:/Users/peter.organisciak/Documents/projects/organisciak.github.io/dev/color_naming.ipynb#W4sZmlsZQ%3D%3D?line=0'>1</a>\u001b[0m \u001b[39mfrom\u001b[39;00m \u001b[39mIPython\u001b[39;00m\u001b[39m.\u001b[39;00m\u001b[39mdisplay\u001b[39;00m \u001b[39mimport\u001b[39;00m HTML\n\u001b[0;32m----> <a href='vscode-notebook-cell:/Users/peter.organisciak/Documents/projects/organisciak.github.io/dev/color_naming.ipynb#W4sZmlsZQ%3D%3D?line=1'>2</a>\u001b[0m HTML(\u001b[39m'\u001b[39m\u001b[39m<div style=\u001b[39m\u001b[39m\"\u001b[39m\u001b[39mdisplay: flex; flex-wrap: wrap;\u001b[39m\u001b[39m\"\u001b[39m\u001b[39m>\u001b[39m\u001b[39m'\u001b[39m \u001b[39m+\u001b[39m \u001b[39m'\u001b[39;49m\u001b[39m'\u001b[39;49m\u001b[39m.\u001b[39;49mjoin(\u001b[39mf\u001b[39;49m\u001b[39m'\u001b[39;49m\u001b[39m<div style=\u001b[39;49m\u001b[39m\"\u001b[39;49m\u001b[39mbackground-color: \u001b[39;49m\u001b[39m{\u001b[39;49;00mcolor\u001b[39m}\u001b[39;49;00m\u001b[39m; padding:5px 30px 5px 5px; font-weight:700; color:\u001b[39;49m\u001b[39m{\u001b[39;49;00mtext_color_for_background(color)\u001b[39m}\u001b[39;49;00m\u001b[39m; width: 70px; height: 100px; margin: 10px;\u001b[39;49m\u001b[39m\"\u001b[39;49m\u001b[39m>\u001b[39;49m\u001b[39m{\u001b[39;49;00mname\u001b[39m}\u001b[39;49;00m\u001b[39m</div>\u001b[39;49m\u001b[39m'\u001b[39;49m \u001b[39mfor\u001b[39;49;00m name, color \u001b[39min\u001b[39;49;00m colors[\u001b[39m-\u001b[39;49m\u001b[39m100\u001b[39;49m:]) \u001b[39m+\u001b[39m \u001b[39m'\u001b[39m\u001b[39m</div>\u001b[39m\u001b[39m'\u001b[39m)\n",
      "\u001b[1;32m/Users/peter.organisciak/Documents/projects/organisciak.github.io/dev/color_naming.ipynb Cell 5\u001b[0m line \u001b[0;36m<genexpr>\u001b[0;34m(.0)\u001b[0m\n\u001b[1;32m      <a href='vscode-notebook-cell:/Users/peter.organisciak/Documents/projects/organisciak.github.io/dev/color_naming.ipynb#W4sZmlsZQ%3D%3D?line=0'>1</a>\u001b[0m \u001b[39mfrom\u001b[39;00m \u001b[39mIPython\u001b[39;00m\u001b[39m.\u001b[39;00m\u001b[39mdisplay\u001b[39;00m \u001b[39mimport\u001b[39;00m HTML\n\u001b[0;32m----> <a href='vscode-notebook-cell:/Users/peter.organisciak/Documents/projects/organisciak.github.io/dev/color_naming.ipynb#W4sZmlsZQ%3D%3D?line=1'>2</a>\u001b[0m HTML(\u001b[39m'\u001b[39m\u001b[39m<div style=\u001b[39m\u001b[39m\"\u001b[39m\u001b[39mdisplay: flex; flex-wrap: wrap;\u001b[39m\u001b[39m\"\u001b[39m\u001b[39m>\u001b[39m\u001b[39m'\u001b[39m \u001b[39m+\u001b[39m \u001b[39m'\u001b[39m\u001b[39m'\u001b[39m\u001b[39m.\u001b[39mjoin(\u001b[39mf\u001b[39m\u001b[39m'\u001b[39m\u001b[39m<div style=\u001b[39m\u001b[39m\"\u001b[39m\u001b[39mbackground-color: \u001b[39m\u001b[39m{\u001b[39;00mcolor\u001b[39m}\u001b[39;00m\u001b[39m; padding:5px 30px 5px 5px; font-weight:700; color:\u001b[39m\u001b[39m{\u001b[39;00mtext_color_for_background(color)\u001b[39m}\u001b[39;00m\u001b[39m; width: 70px; height: 100px; margin: 10px;\u001b[39m\u001b[39m\"\u001b[39m\u001b[39m>\u001b[39m\u001b[39m{\u001b[39;00mname\u001b[39m}\u001b[39;00m\u001b[39m</div>\u001b[39m\u001b[39m'\u001b[39m \u001b[39mfor\u001b[39;00m name, color \u001b[39min\u001b[39;00m colors[\u001b[39m-\u001b[39m\u001b[39m100\u001b[39m:]) \u001b[39m+\u001b[39m \u001b[39m'\u001b[39m\u001b[39m</div>\u001b[39m\u001b[39m'\u001b[39m)\n",
      "\u001b[0;31mValueError\u001b[0m: too many values to unpack (expected 2)"
     ]
    }
   ],
   "source": [
    "from IPython.display import HTML\n",
    "HTML('<div style=\"display: flex; flex-wrap: wrap;\">' + ''.join(f'<div style=\"background-color: {color}; padding:5px 30px 5px 5px; font-weight:700; color:{text_color_for_background(color)}; width: 70px; height: 100px; margin: 10px;\">{name}</div>' for name, color in colors[-100:]) + '</div>')"
   ]
  },
  {
   "cell_type": "code",
   "execution_count": null,
   "metadata": {},
   "outputs": [],
   "source": []
  },
  {
   "cell_type": "code",
   "execution_count": null,
   "metadata": {},
   "outputs": [],
   "source": []
  },
  {
   "cell_type": "code",
   "execution_count": null,
   "metadata": {},
   "outputs": [],
   "source": []
  }
 ],
 "metadata": {
  "kernelspec": {
   "display_name": "base",
   "language": "python",
   "name": "python3"
  },
  "language_info": {
   "codemirror_mode": {
    "name": "ipython",
    "version": 3
   },
   "file_extension": ".py",
   "mimetype": "text/x-python",
   "name": "python",
   "nbconvert_exporter": "python",
   "pygments_lexer": "ipython3",
   "version": "3.9.12"
  }
 },
 "nbformat": 4,
 "nbformat_minor": 2
}
